{
 "cells": [
  {
   "cell_type": "markdown",
   "metadata": {
    "id": "VAjXBs0w2j0B"
   },
   "source": [
    "**C\u00e0i \u0111\u1eb7t m\u00f4i tr\u01b0\u1eddng**"
   ]
  },
  {
   "cell_type": "code",
   "execution_count": 1,
   "metadata": {
    "colab": {
     "base_uri": "https://localhost:8080/"
    },
    "execution": {
     "iopub.execute_input": "2024-12-18T11:58:02.979179Z",
     "iopub.status.busy": "2024-12-18T11:58:02.978241Z",
     "iopub.status.idle": "2024-12-18T11:58:43.556202Z",
     "shell.execute_reply": "2024-12-18T11:58:43.554898Z",
     "shell.execute_reply.started": "2024-12-18T11:58:02.979136Z"
    },
    "id": "f4cYoqCDdglJ",
    "outputId": "74129392-3681-4600-d793-e19398303f7c",
    "trusted": true
   },
   "outputs": [
    {
     "name": "stdout",
     "output_type": "stream",
     "text": [
      "Collecting git+https://github.com/Farama-Foundation/MAgent2 (from -r requirements.txt (line 1))\n",
      "  Cloning https://github.com/Farama-Foundation/MAgent2 to /tmp/pip-req-build-p5awfscq\n",
      "  Running command git clone --filter=blob:none --quiet https://github.com/Farama-Foundation/MAgent2 /tmp/pip-req-build-p5awfscq\n",
      "  Resolved https://github.com/Farama-Foundation/MAgent2 to commit b2ddd49445368cf85d4d4e1edcddae2e28aa1406\n",
      "  Installing build dependencies ... \u001b[?25ldone\n",
      "\u001b[?25h  Getting requirements to build wheel ... \u001b[?25ldone\n",
      "\u001b[?25h  Preparing metadata (pyproject.toml) ... \u001b[?25ldone\n",
      "\u001b[?25hCollecting opencv-python (from -r requirements.txt (line 2))\n",
      "  Using cached opencv_python-4.10.0.84-cp37-abi3-manylinux_2_17_x86_64.manylinux2014_x86_64.whl.metadata (20 kB)\n",
      "Collecting torch (from -r requirements.txt (line 3))\n",
      "  Using cached torch-2.5.1-cp312-cp312-manylinux1_x86_64.whl.metadata (28 kB)\n",
      "Collecting numpy<2.0,>=1.21.0 (from magent2==0.3.3->-r requirements.txt (line 1))\n",
      "  Using cached numpy-1.26.4-cp312-cp312-manylinux_2_17_x86_64.manylinux2014_x86_64.whl.metadata (61 kB)\n",
      "Collecting pygame>=2.1.0 (from magent2==0.3.3->-r requirements.txt (line 1))\n",
      "  Using cached pygame-2.6.1-cp312-cp312-manylinux_2_17_x86_64.manylinux2014_x86_64.whl.metadata (12 kB)\n",
      "Collecting pettingzoo>=1.23.1 (from magent2==0.3.3->-r requirements.txt (line 1))\n",
      "  Using cached pettingzoo-1.24.3-py3-none-any.whl.metadata (8.5 kB)\n",
      "Collecting filelock (from torch->-r requirements.txt (line 3))\n",
      "  Using cached filelock-3.16.1-py3-none-any.whl.metadata (2.9 kB)\n",
      "Collecting typing-extensions>=4.8.0 (from torch->-r requirements.txt (line 3))\n",
      "  Using cached typing_extensions-4.12.2-py3-none-any.whl.metadata (3.0 kB)\n",
      "Collecting networkx (from torch->-r requirements.txt (line 3))\n",
      "  Using cached networkx-3.4.2-py3-none-any.whl.metadata (6.3 kB)\n",
      "Collecting jinja2 (from torch->-r requirements.txt (line 3))\n",
      "  Using cached jinja2-3.1.4-py3-none-any.whl.metadata (2.6 kB)\n",
      "Collecting fsspec (from torch->-r requirements.txt (line 3))\n",
      "  Using cached fsspec-2024.12.0-py3-none-any.whl.metadata (11 kB)\n",
      "Collecting nvidia-cuda-nvrtc-cu12==12.4.127 (from torch->-r requirements.txt (line 3))\n",
      "  Using cached nvidia_cuda_nvrtc_cu12-12.4.127-py3-none-manylinux2014_x86_64.whl.metadata (1.5 kB)\n",
      "Collecting nvidia-cuda-runtime-cu12==12.4.127 (from torch->-r requirements.txt (line 3))\n",
      "  Using cached nvidia_cuda_runtime_cu12-12.4.127-py3-none-manylinux2014_x86_64.whl.metadata (1.5 kB)\n",
      "Collecting nvidia-cuda-cupti-cu12==12.4.127 (from torch->-r requirements.txt (line 3))\n",
      "  Using cached nvidia_cuda_cupti_cu12-12.4.127-py3-none-manylinux2014_x86_64.whl.metadata (1.6 kB)\n",
      "Collecting nvidia-cudnn-cu12==9.1.0.70 (from torch->-r requirements.txt (line 3))\n",
      "  Using cached nvidia_cudnn_cu12-9.1.0.70-py3-none-manylinux2014_x86_64.whl.metadata (1.6 kB)\n",
      "Collecting nvidia-cublas-cu12==12.4.5.8 (from torch->-r requirements.txt (line 3))\n",
      "  Using cached nvidia_cublas_cu12-12.4.5.8-py3-none-manylinux2014_x86_64.whl.metadata (1.5 kB)\n",
      "Collecting nvidia-cufft-cu12==11.2.1.3 (from torch->-r requirements.txt (line 3))\n",
      "  Using cached nvidia_cufft_cu12-11.2.1.3-py3-none-manylinux2014_x86_64.whl.metadata (1.5 kB)\n",
      "Collecting nvidia-curand-cu12==10.3.5.147 (from torch->-r requirements.txt (line 3))\n",
      "  Using cached nvidia_curand_cu12-10.3.5.147-py3-none-manylinux2014_x86_64.whl.metadata (1.5 kB)\n",
      "Collecting nvidia-cusolver-cu12==11.6.1.9 (from torch->-r requirements.txt (line 3))\n",
      "  Using cached nvidia_cusolver_cu12-11.6.1.9-py3-none-manylinux2014_x86_64.whl.metadata (1.6 kB)\n",
      "Collecting nvidia-cusparse-cu12==12.3.1.170 (from torch->-r requirements.txt (line 3))\n",
      "  Using cached nvidia_cusparse_cu12-12.3.1.170-py3-none-manylinux2014_x86_64.whl.metadata (1.6 kB)\n",
      "Collecting nvidia-nccl-cu12==2.21.5 (from torch->-r requirements.txt (line 3))\n",
      "  Using cached nvidia_nccl_cu12-2.21.5-py3-none-manylinux2014_x86_64.whl.metadata (1.8 kB)\n",
      "Collecting nvidia-nvtx-cu12==12.4.127 (from torch->-r requirements.txt (line 3))\n",
      "  Using cached nvidia_nvtx_cu12-12.4.127-py3-none-manylinux2014_x86_64.whl.metadata (1.7 kB)\n",
      "Collecting nvidia-nvjitlink-cu12==12.4.127 (from torch->-r requirements.txt (line 3))\n",
      "  Using cached nvidia_nvjitlink_cu12-12.4.127-py3-none-manylinux2014_x86_64.whl.metadata (1.5 kB)\n",
      "Collecting triton==3.1.0 (from torch->-r requirements.txt (line 3))\n",
      "  Using cached triton-3.1.0-cp312-cp312-manylinux_2_17_x86_64.manylinux2014_x86_64.whl.metadata (1.3 kB)\n",
      "Collecting setuptools (from torch->-r requirements.txt (line 3))\n",
      "  Using cached setuptools-75.6.0-py3-none-any.whl.metadata (6.7 kB)\n",
      "Collecting sympy==1.13.1 (from torch->-r requirements.txt (line 3))\n",
      "  Using cached sympy-1.13.1-py3-none-any.whl.metadata (12 kB)\n",
      "Collecting mpmath<1.4,>=1.1.0 (from sympy==1.13.1->torch->-r requirements.txt (line 3))\n",
      "  Using cached mpmath-1.3.0-py3-none-any.whl.metadata (8.6 kB)\n",
      "Collecting gymnasium>=0.28.0 (from pettingzoo>=1.23.1->magent2==0.3.3->-r requirements.txt (line 1))\n",
      "  Using cached gymnasium-1.0.0-py3-none-any.whl.metadata (9.5 kB)\n",
      "Collecting MarkupSafe>=2.0 (from jinja2->torch->-r requirements.txt (line 3))\n",
      "  Using cached MarkupSafe-3.0.2-cp312-cp312-manylinux_2_17_x86_64.manylinux2014_x86_64.whl.metadata (4.0 kB)\n",
      "Collecting cloudpickle>=1.2.0 (from gymnasium>=0.28.0->pettingzoo>=1.23.1->magent2==0.3.3->-r requirements.txt (line 1))\n",
      "  Using cached cloudpickle-3.1.0-py3-none-any.whl.metadata (7.0 kB)\n",
      "Collecting farama-notifications>=0.0.1 (from gymnasium>=0.28.0->pettingzoo>=1.23.1->magent2==0.3.3->-r requirements.txt (line 1))\n",
      "  Using cached Farama_Notifications-0.0.4-py3-none-any.whl.metadata (558 bytes)\n",
      "Using cached opencv_python-4.10.0.84-cp37-abi3-manylinux_2_17_x86_64.manylinux2014_x86_64.whl (62.5 MB)\n",
      "Using cached torch-2.5.1-cp312-cp312-manylinux1_x86_64.whl (906.4 MB)\n",
      "Using cached nvidia_cublas_cu12-12.4.5.8-py3-none-manylinux2014_x86_64.whl (363.4 MB)\n",
      "Using cached nvidia_cuda_cupti_cu12-12.4.127-py3-none-manylinux2014_x86_64.whl (13.8 MB)\n",
      "Using cached nvidia_cuda_nvrtc_cu12-12.4.127-py3-none-manylinux2014_x86_64.whl (24.6 MB)\n",
      "Using cached nvidia_cuda_runtime_cu12-12.4.127-py3-none-manylinux2014_x86_64.whl (883 kB)\n",
      "Using cached nvidia_cudnn_cu12-9.1.0.70-py3-none-manylinux2014_x86_64.whl (664.8 MB)\n",
      "Using cached nvidia_cufft_cu12-11.2.1.3-py3-none-manylinux2014_x86_64.whl (211.5 MB)\n",
      "Using cached nvidia_curand_cu12-10.3.5.147-py3-none-manylinux2014_x86_64.whl (56.3 MB)\n",
      "Using cached nvidia_cusolver_cu12-11.6.1.9-py3-none-manylinux2014_x86_64.whl (127.9 MB)\n",
      "Using cached nvidia_cusparse_cu12-12.3.1.170-py3-none-manylinux2014_x86_64.whl (207.5 MB)\n",
      "Using cached nvidia_nccl_cu12-2.21.5-py3-none-manylinux2014_x86_64.whl (188.7 MB)\n",
      "Using cached nvidia_nvjitlink_cu12-12.4.127-py3-none-manylinux2014_x86_64.whl (21.1 MB)\n",
      "Using cached nvidia_nvtx_cu12-12.4.127-py3-none-manylinux2014_x86_64.whl (99 kB)\n",
      "Using cached sympy-1.13.1-py3-none-any.whl (6.2 MB)\n",
      "Using cached triton-3.1.0-cp312-cp312-manylinux_2_17_x86_64.manylinux2014_x86_64.whl (209.6 MB)\n",
      "Using cached numpy-1.26.4-cp312-cp312-manylinux_2_17_x86_64.manylinux2014_x86_64.whl (18.0 MB)\n",
      "Using cached pettingzoo-1.24.3-py3-none-any.whl (847 kB)\n",
      "Using cached pygame-2.6.1-cp312-cp312-manylinux_2_17_x86_64.manylinux2014_x86_64.whl (14.0 MB)\n",
      "Using cached typing_extensions-4.12.2-py3-none-any.whl (37 kB)\n",
      "Using cached filelock-3.16.1-py3-none-any.whl (16 kB)\n",
      "Using cached fsspec-2024.12.0-py3-none-any.whl (183 kB)\n",
      "Using cached jinja2-3.1.4-py3-none-any.whl (133 kB)\n",
      "Using cached networkx-3.4.2-py3-none-any.whl (1.7 MB)\n",
      "Using cached setuptools-75.6.0-py3-none-any.whl (1.2 MB)\n",
      "Using cached gymnasium-1.0.0-py3-none-any.whl (958 kB)\n",
      "Using cached MarkupSafe-3.0.2-cp312-cp312-manylinux_2_17_x86_64.manylinux2014_x86_64.whl (23 kB)\n",
      "Using cached mpmath-1.3.0-py3-none-any.whl (536 kB)\n",
      "Using cached cloudpickle-3.1.0-py3-none-any.whl (22 kB)\n",
      "Using cached Farama_Notifications-0.0.4-py3-none-any.whl (2.5 kB)\n",
      "Building wheels for collected packages: magent2\n",
      "  Building wheel for magent2 (pyproject.toml) ... \u001b[?25ldone\n",
      "\u001b[?25h  Created wheel for magent2: filename=magent2-0.3.3-cp312-cp312-linux_x86_64.whl size=1641987 sha256=645fbf72a2d77d4e321ca913272bd0cef783e407235e941a18b39e12c9254fe8\n",
      "  Stored in directory: /tmp/pip-ephem-wheel-cache-nr4eyj9i/wheels/1a/79/4f/280a8e8257012c8ce37dae2ed1220a0e535aee254878f60fee\n",
      "Successfully built magent2\n",
      "Installing collected packages: mpmath, farama-notifications, typing-extensions, sympy, setuptools, pygame, nvidia-nvtx-cu12, nvidia-nvjitlink-cu12, nvidia-nccl-cu12, nvidia-curand-cu12, nvidia-cufft-cu12, nvidia-cuda-runtime-cu12, nvidia-cuda-nvrtc-cu12, nvidia-cuda-cupti-cu12, nvidia-cublas-cu12, numpy, networkx, MarkupSafe, fsspec, filelock, cloudpickle, triton, opencv-python, nvidia-cusparse-cu12, nvidia-cudnn-cu12, jinja2, gymnasium, pettingzoo, nvidia-cusolver-cu12, torch, magent2\n",
      "Successfully installed MarkupSafe-3.0.2 cloudpickle-3.1.0 farama-notifications-0.0.4 filelock-3.16.1 fsspec-2024.12.0 gymnasium-1.0.0 jinja2-3.1.4 magent2-0.3.3 mpmath-1.3.0 networkx-3.4.2 numpy-1.26.4 nvidia-cublas-cu12-12.4.5.8 nvidia-cuda-cupti-cu12-12.4.127 nvidia-cuda-nvrtc-cu12-12.4.127 nvidia-cuda-runtime-cu12-12.4.127 nvidia-cudnn-cu12-9.1.0.70 nvidia-cufft-cu12-11.2.1.3 nvidia-curand-cu12-10.3.5.147 nvidia-cusolver-cu12-11.6.1.9 nvidia-cusparse-cu12-12.3.1.170 nvidia-nccl-cu12-2.21.5 nvidia-nvjitlink-cu12-12.4.127 nvidia-nvtx-cu12-12.4.127 opencv-python-4.10.0.84 pettingzoo-1.24.3 pygame-2.6.1 setuptools-75.6.0 sympy-1.13.1 torch-2.5.1 triton-3.1.0 typing-extensions-4.12.2\n"
     ]
    }
   ],
   "source": [
    "!pip install -r requirements.txt"
   ]
  },
  {
   "cell_type": "markdown",
   "metadata": {
    "id": "hvS7yCYC2j0E"
   },
   "source": [
    "**Import library**"
   ]
  },
  {
   "cell_type": "code",
   "execution_count": null,
   "metadata": {
    "execution": {
     "iopub.execute_input": "2024-12-18T11:58:43.558717Z",
     "iopub.status.busy": "2024-12-18T11:58:43.558365Z",
     "iopub.status.idle": "2024-12-18T11:58:47.030240Z",
     "shell.execute_reply": "2024-12-18T11:58:47.029138Z",
     "shell.execute_reply.started": "2024-12-18T11:58:43.558685Z"
    },
    "id": "FsKHpbmjb8bB",
    "trusted": true
   },
   "outputs": [],
   "source": [
    "from magent2.environments import battle_v4\n",
    "import matplotlib.pyplot as plt\n",
    "from tqdm.auto import tqdm\n",
    "from copy import deepcopy\n",
    "import torch.nn as nn\n",
    "import torch\n",
    "import numpy as np\n",
    "import os\n",
    "import cv2\n",
    "import math\n",
    "import random"
   ]
  },
  {
   "cell_type": "code",
   "execution_count": null,
   "metadata": {
    "colab": {
     "base_uri": "https://localhost:8080/",
     "height": 35
    },
    "execution": {
     "iopub.execute_input": "2024-12-18T11:58:47.031845Z",
     "iopub.status.busy": "2024-12-18T11:58:47.031381Z",
     "iopub.status.idle": "2024-12-18T11:58:47.038954Z",
     "shell.execute_reply": "2024-12-18T11:58:47.038039Z",
     "shell.execute_reply.started": "2024-12-18T11:58:47.031815Z"
    },
    "id": "0Wy1plV8Sgin",
    "outputId": "b28eb2c2-c6dd-44b2-bc83-426036d51822",
    "trusted": true
   },
   "outputs": [
    {
     "data": {
      "application/vnd.google.colaboratory.intrinsic+json": {
       "type": "string"
      },
      "text/plain": [
       "'cpu'"
      ]
     },
     "execution_count": 5,
     "metadata": {},
     "output_type": "execute_result"
    }
   ],
   "source": [
    "# device = 'cpu'\n",
    "device = 'cuda' if torch.cuda.is_available() else 'cpu'\n",
    "device"
   ]
  },
  {
   "cell_type": "code",
   "execution_count": null,
   "metadata": {
    "execution": {
     "iopub.execute_input": "2024-12-18T11:58:47.041554Z",
     "iopub.status.busy": "2024-12-18T11:58:47.041216Z",
     "iopub.status.idle": "2024-12-18T11:58:47.085641Z",
     "shell.execute_reply": "2024-12-18T11:58:47.084687Z",
     "shell.execute_reply.started": "2024-12-18T11:58:47.041524Z"
    },
    "id": "Xznjn66d2j0G",
    "trusted": true
   },
   "outputs": [],
   "source": [
    "env = battle_v4.env(map_size=45, minimap_mode=False, step_reward=-0.01,\n",
    "                    dead_penalty=-0.1, attack_penalty=-0.1, attack_opponent_reward=0.5,\n",
    "                    max_cycles=200, extra_features=False)"
   ]
  },
  {
   "cell_type": "markdown",
   "metadata": {
    "id": "ue5ocS3o2j0G"
   },
   "source": [
    "**Pretrained network**"
   ]
  },
  {
   "cell_type": "code",
   "execution_count": null,
   "metadata": {
    "execution": {
     "iopub.execute_input": "2024-12-18T11:58:47.086831Z",
     "iopub.status.busy": "2024-12-18T11:58:47.086550Z",
     "iopub.status.idle": "2024-12-18T11:58:47.095871Z",
     "shell.execute_reply": "2024-12-18T11:58:47.094472Z",
     "shell.execute_reply.started": "2024-12-18T11:58:47.086804Z"
    },
    "id": "dyrouPdETu30",
    "trusted": true
   },
   "outputs": [],
   "source": [
    "class QNetwork_pre(nn.Module):\n",
    "    def __init__(self, observation_shape, action_shape):\n",
    "        super().__init__()\n",
    "        self.cnn = nn.Sequential(\n",
    "            nn.Conv2d(observation_shape[-1], observation_shape[-1], 3),\n",
    "            nn.ReLU(),\n",
    "            nn.Conv2d(observation_shape[-1], observation_shape[-1], 3),\n",
    "            nn.ReLU(),\n",
    "        )\n",
    "        dummy_input = torch.randn(observation_shape).permute(2, 0, 1)\n",
    "        dummy_output = self.cnn(dummy_input)\n",
    "        flatten_dim = dummy_output.view(-1).shape[0]\n",
    "        self.network = nn.Sequential(\n",
    "            nn.Linear(flatten_dim, 120),\n",
    "            nn.ReLU(),\n",
    "            nn.Linear(120, 84),\n",
    "            nn.ReLU(),\n",
    "            nn.Linear(84, action_shape),\n",
    "        )\n",
    "\n",
    "    def forward(self, x):\n",
    "        assert len(x.shape) >= 3, \"only support magent input observation\"\n",
    "        x = self.cnn(x)\n",
    "        if len(x.shape) == 3:\n",
    "            batchsize = 1\n",
    "        else:\n",
    "            batchsize = x.shape[0]\n",
    "        x = x.reshape(batchsize, -1)\n",
    "        return self.network(x)\n"
   ]
  },
  {
   "cell_type": "code",
   "execution_count": null,
   "metadata": {
    "colab": {
     "base_uri": "https://localhost:8080/"
    },
    "execution": {
     "iopub.execute_input": "2024-12-18T11:58:47.097743Z",
     "iopub.status.busy": "2024-12-18T11:58:47.097314Z",
     "iopub.status.idle": "2024-12-18T11:58:47.236669Z",
     "shell.execute_reply": "2024-12-18T11:58:47.235630Z",
     "shell.execute_reply.started": "2024-12-18T11:58:47.097700Z"
    },
    "id": "mokCdwHJ2j0H",
    "outputId": "dd9cd80e-1e62-4625-f67c-537d977a0336",
    "trusted": true
   },
   "outputs": [
    {
     "data": {
      "text/plain": [
       "<All keys matched successfully>"
      ]
     },
     "execution_count": 8,
     "metadata": {},
     "output_type": "execute_result"
    }
   ],
   "source": [
    "q_network_pre = QNetwork_pre(\n",
    "    (13,13,5), env.action_space(\"red_0\").n).to(device)\n",
    "q_network_pre.load_state_dict(\n",
    "    torch.load(\"red.pt\", weights_only=True, map_location=device))"
   ]
  },
  {
   "cell_type": "markdown",
   "metadata": {
    "id": "le2I4fFM2j0I"
   },
   "source": [
    "**Final Network**"
   ]
  },
  {
   "cell_type": "code",
   "execution_count": null,
   "metadata": {
    "execution": {
     "iopub.execute_input": "2024-12-18T11:58:47.238629Z",
     "iopub.status.busy": "2024-12-18T11:58:47.238289Z",
     "iopub.status.idle": "2024-12-18T11:58:47.247318Z",
     "shell.execute_reply": "2024-12-18T11:58:47.246195Z",
     "shell.execute_reply.started": "2024-12-18T11:58:47.238598Z"
    },
    "id": "hujx0RpO2j0I",
    "trusted": true
   },
   "outputs": [],
   "source": [
    "class QNetwork_final(nn.Module):\n",
    "    def __init__(self, observation_shape, action_shape):\n",
    "        super().__init__()\n",
    "        self.cnn = nn.Sequential(\n",
    "            nn.Conv2d(observation_shape[-1], observation_shape[-1], 3),\n",
    "            nn.ReLU(),\n",
    "            nn.Conv2d(observation_shape[-1], observation_shape[-1], 3),\n",
    "            nn.ReLU(),\n",
    "        )\n",
    "        dummy_input = torch.randn(observation_shape).permute(2, 0, 1)\n",
    "        dummy_output = self.cnn(dummy_input)\n",
    "        flatten_dim = dummy_output.view(-1).shape[0]\n",
    "        self.network = nn.Sequential(\n",
    "            nn.Linear(flatten_dim, 120),\n",
    "            # nn.LayerNorm(120),\n",
    "            nn.ReLU(),\n",
    "            nn.Linear(120, 84),\n",
    "            # nn.LayerNorm(84),\n",
    "            nn.Tanh(),\n",
    "        )\n",
    "        self.last_layer = nn.Linear(84, action_shape)\n",
    "\n",
    "    def forward(self, x):\n",
    "        assert len(x.shape) >= 3, \"only support magent input observation\"\n",
    "        x = self.cnn(x)\n",
    "        if len(x.shape) == 3:\n",
    "            batchsize = 1\n",
    "        else:\n",
    "            batchsize = x.shape[0]\n",
    "        x = x.reshape(batchsize, -1)\n",
    "        x = self.network(x)\n",
    "        self.last_latent = x\n",
    "        return self.last_layer(x)"
   ]
  },
  {
   "cell_type": "markdown",
   "metadata": {
    "id": "TwO8Xz5c2j0I"
   },
   "source": [
    "**My Network**"
   ]
  },
  {
   "cell_type": "code",
   "execution_count": null,
   "metadata": {
    "execution": {
     "iopub.execute_input": "2024-12-18T11:58:47.248888Z",
     "iopub.status.busy": "2024-12-18T11:58:47.248578Z",
     "iopub.status.idle": "2024-12-18T11:58:47.267372Z",
     "shell.execute_reply": "2024-12-18T11:58:47.266224Z",
     "shell.execute_reply.started": "2024-12-18T11:58:47.248856Z"
    },
    "id": "YfjiOYFcgKDi",
    "trusted": true
   },
   "outputs": [],
   "source": [
    "class QNetwork(nn.Module):\n",
    "    def __init__(self, input_shape, hidden_units, action_shape, dropout_rate = 0.1):\n",
    "        super().__init__()\n",
    "        self.block1 = nn.Sequential(\n",
    "            nn.Conv2d(input_shape,hidden_units,2),\n",
    "            nn.ReLU(),\n",
    "            nn.Conv2d(input_shape,hidden_units,2),\n",
    "            nn.ReLU(),\n",
    "            nn.MaxPool2d(2),\n",
    "            nn.Dropout(p=dropout_rate)  # Dropout\n",
    "        )\n",
    "        # self.residual = nn.Conv2d(input_shape, hidden_units, 3, padding= 1)\n",
    "        self.network = nn.Sequential(\n",
    "            nn.Flatten(),\n",
    "            nn.Linear(125, 84),\n",
    "            nn.ReLU(),\n",
    "            nn.Linear(84, 60),\n",
    "            nn.ReLU(),\n",
    "            nn.Linear(60, action_shape),\n",
    "        )\n",
    "\n",
    "    def forward(self, x):\n",
    "        return self.network(self.block1(x))\n"
   ]
  },
  {
   "cell_type": "markdown",
   "metadata": {},
   "source": [
    "**Replay Buffer**"
   ]
  },
  {
   "cell_type": "code",
   "execution_count": null,
   "metadata": {
    "execution": {
     "iopub.execute_input": "2024-12-18T11:58:47.269039Z",
     "iopub.status.busy": "2024-12-18T11:58:47.268659Z",
     "iopub.status.idle": "2024-12-18T11:58:47.279445Z",
     "shell.execute_reply": "2024-12-18T11:58:47.278588Z",
     "shell.execute_reply.started": "2024-12-18T11:58:47.268980Z"
    },
    "id": "y3amOoMRgS7K",
    "trusted": true
   },
   "outputs": [],
   "source": [
    "class ReplayBuffer:\n",
    "\n",
    "    def __init__(self, capacity=100000):\n",
    "        self.capacity = capacity\n",
    "        self.memory = []\n",
    "        self.position = 0\n",
    "\n",
    "    def insert(self, transition):\n",
    "        if len(self.memory) < self.capacity:\n",
    "            self.memory.append(None)\n",
    "        self.memory[self.position] = transition\n",
    "        self.position = (self.position + 1) % self.capacity\n",
    "\n",
    "    def sample(self, batch_size):\n",
    "        assert self.can_sample(batch_size)\n",
    "        batch = random.sample(self.memory, batch_size)\n",
    "        batch = zip(*batch)\n",
    "        return [torch.cat([item.to(device) for item in items]) for items in batch]\n",
    "        # return [torch.cat(items) for items in batch]\n",
    "\n",
    "    def can_sample(self, batch_size):\n",
    "        return len(self.memory) >= batch_size * 300\n",
    "\n",
    "    def __len__(self):\n",
    "        return len(self.memory)\n",
    "\n",
    "replay = ReplayBuffer(capacity = 50000)"
   ]
  },
  {
   "cell_type": "code",
   "execution_count": null,
   "metadata": {
    "execution": {
     "iopub.execute_input": "2024-12-18T11:58:47.283599Z",
     "iopub.status.busy": "2024-12-18T11:58:47.283232Z",
     "iopub.status.idle": "2024-12-18T11:58:47.333094Z",
     "shell.execute_reply": "2024-12-18T11:58:47.332021Z",
     "shell.execute_reply.started": "2024-12-18T11:58:47.283568Z"
    },
    "id": "q0u-I2hg2j0J",
    "trusted": true
   },
   "outputs": [],
   "source": [
    "# initialize q_network and target q_network\n",
    "q_network = QNetwork(5, 5, 21).to(device)\n",
    "target_q_network = deepcopy(q_network).eval()\n",
    "# test with dummy tensor\n",
    "dummy_tensor = torch.rand(size = (1,5,13,13))\n",
    "test = q_network(dummy_tensor.to(device))"
   ]
  },
  {
   "cell_type": "code",
   "execution_count": null,
   "metadata": {
    "execution": {
     "iopub.execute_input": "2024-12-18T11:58:47.334969Z",
     "iopub.status.busy": "2024-12-18T11:58:47.334538Z",
     "iopub.status.idle": "2024-12-18T11:58:48.312396Z",
     "shell.execute_reply": "2024-12-18T11:58:48.311437Z",
     "shell.execute_reply.started": "2024-12-18T11:58:47.334914Z"
    },
    "id": "8g-mkrG811Ei",
    "trusted": true
   },
   "outputs": [],
   "source": [
    "# initialize criterion and optimizer\n",
    "loss_fn = nn.MSELoss()\n",
    "optimizer = torch.optim.Adam(params = q_network.parameters(),\n",
    "                             lr = 0.0001)"
   ]
  },
  {
   "cell_type": "code",
   "execution_count": null,
   "metadata": {
    "execution": {
     "iopub.execute_input": "2024-12-18T11:58:48.314048Z",
     "iopub.status.busy": "2024-12-18T11:58:48.313634Z",
     "iopub.status.idle": "2024-12-18T11:58:48.319354Z",
     "shell.execute_reply": "2024-12-18T11:58:48.318369Z",
     "shell.execute_reply.started": "2024-12-18T11:58:48.314017Z"
    },
    "id": "jmG5HTuy2j0J",
    "trusted": true
   },
   "outputs": [],
   "source": [
    "# set seed\n",
    "seed = 40\n",
    "\n",
    "def set_seed(seed):\n",
    "    # \u0110\u1eb7t seed cho Python\n",
    "    random.seed(seed)\n",
    "    # \u0110\u1eb7t seed cho numpy\n",
    "    np.random.seed(seed)\n",
    "    # \u0110\u1eb7t seed cho PyTorch\n",
    "    torch.manual_seed(seed)\n",
    "    if torch.cuda.is_available():\n",
    "        torch.cuda.manual_seed(seed)\n",
    "        torch.cuda.manual_seed_all(seed)\n",
    "    torch.backends.cudnn.deterministic = True\n",
    "    torch.backends.cudnn.benchmark = False\n",
    "\n",
    "set_seed(seed)"
   ]
  },
  {
   "cell_type": "code",
   "execution_count": null,
   "metadata": {
    "execution": {
     "iopub.execute_input": "2024-12-18T11:58:48.321136Z",
     "iopub.status.busy": "2024-12-18T11:58:48.320673Z",
     "iopub.status.idle": "2024-12-18T11:58:48.331874Z",
     "shell.execute_reply": "2024-12-18T11:58:48.330884Z",
     "shell.execute_reply.started": "2024-12-18T11:58:48.321101Z"
    },
    "id": "YHu144gZt1VJ",
    "trusted": true
   },
   "outputs": [],
   "source": [
    "def exploratory_policy(state, agent, epsilon, env):\n",
    "  if random.random() < epsilon:\n",
    "    return torch.tensor(env.action_space(agent).sample()).view(1,-1)\n",
    "  else:\n",
    "    tensor_state = torch.from_numpy(state).permute([2, 0, 1]).unsqueeze(dim = 0)\n",
    "    action_logits = q_network(tensor_state.to(device)).detach()\n",
    "    return torch.argmax(action_logits, dim = 1, keepdim = True)"
   ]
  },
  {
   "cell_type": "code",
   "execution_count": null,
   "metadata": {
    "execution": {
     "iopub.execute_input": "2024-12-18T11:58:48.333367Z",
     "iopub.status.busy": "2024-12-18T11:58:48.333084Z",
     "iopub.status.idle": "2024-12-18T11:58:48.344180Z",
     "shell.execute_reply": "2024-12-18T11:58:48.343184Z",
     "shell.execute_reply.started": "2024-12-18T11:58:48.333339Z"
    },
    "id": "XQg-VCZkrP6C",
    "trusted": true
   },
   "outputs": [],
   "source": [
    "# preprocess before inserting into buffer replay\n",
    "def preprocess(state, reward, done, next_state):\n",
    "  tensor_state = torch.from_numpy(state).permute([2, 0, 1]).unsqueeze(dim = 0).to(device)\n",
    "  tensor_next_state = torch.from_numpy(next_state).permute([2, 0, 1]).unsqueeze(dim = 0).to(device)\n",
    "  tensor_reward = torch.tensor(reward).view(1,-1).to(device)\n",
    "  tensor_done = torch.tensor(done).view(1, -1).to(device)\n",
    "  return tensor_state, tensor_next_state, tensor_reward, tensor_done"
   ]
  },
  {
   "cell_type": "code",
   "execution_count": null,
   "metadata": {
    "execution": {
     "iopub.execute_input": "2024-12-18T11:58:48.345700Z",
     "iopub.status.busy": "2024-12-18T11:58:48.345324Z",
     "iopub.status.idle": "2024-12-18T11:58:48.362329Z",
     "shell.execute_reply": "2024-12-18T11:58:48.361335Z",
     "shell.execute_reply.started": "2024-12-18T11:58:48.345649Z"
    },
    "id": "fD-_HtIV2j0K",
    "trusted": true
   },
   "outputs": [],
   "source": [
    "# pursuit reward\n",
    "def pursuit(state, next_state, action):\n",
    "    oppo_presence_prev = state[:,:,4]\n",
    "    oppo_presence_cur = next_state[:,:,4]\n",
    "    return 0.015 if (np.sum(oppo_presence_cur != 0) - np.sum(oppo_presence_prev != 0)) > 0 and action not in {3,7,8,11,6} else 0"
   ]
  },
  {
   "cell_type": "code",
   "execution_count": null,
   "metadata": {
    "execution": {
     "iopub.execute_input": "2024-12-18T11:58:48.363945Z",
     "iopub.status.busy": "2024-12-18T11:58:48.363560Z",
     "iopub.status.idle": "2024-12-18T11:58:48.378265Z",
     "shell.execute_reply": "2024-12-18T11:58:48.377283Z",
     "shell.execute_reply.started": "2024-12-18T11:58:48.363904Z"
    },
    "id": "ymr8ku6Q2j0K",
    "trusted": true
   },
   "outputs": [],
   "source": [
    "# dict for storing state, action, next state \n",
    "agents_action = {}\n",
    "for i in range(81):\n",
    "    agents_action['blue_' + str(i)] = -1"
   ]
  },
  {
   "cell_type": "markdown",
   "metadata": {
    "id": "7PcGN4uE2j0K"
   },
   "source": [
    "**Training**"
   ]
  },
  {
   "cell_type": "code",
   "execution_count": null,
   "metadata": {
    "colab": {
     "base_uri": "https://localhost:8080/",
     "height": 66,
     "referenced_widgets": [
      "b990e92101df4549862aecaeeb4635ee",
      "bea7346acc584a0b8a31ad0cbb856acc",
      "6e1227dfafc94b3cb4ba2b79b4cf921b",
      "b64b3926c6184fc5b9177c598a8d847a",
      "d25cbf7a13fa4f358a0ad7250e595ed8",
      "47c6762c414a4560a88f6a87e99923fc",
      "b506a838402b44058de9776c66cb7727",
      "47458a1704ec492cae8e72fddce092aa",
      "b211a877242248239758fb6243dd0325",
      "df4688107a0e4f399274f97f5b7536c4",
      "f78cc93748c540848fb6ec2f2998a752"
     ]
    },
    "execution": {
     "iopub.execute_input": "2024-12-18T11:58:48.379863Z",
     "iopub.status.busy": "2024-12-18T11:58:48.379518Z",
     "iopub.status.idle": "2024-12-18T12:12:39.233092Z",
     "shell.execute_reply": "2024-12-18T12:12:39.232015Z",
     "shell.execute_reply.started": "2024-12-18T11:58:48.379833Z"
    },
    "id": "DDPUluVfdqYY",
    "outputId": "1f1edd4f-703e-4b9c-ac9e-f529c20de6f8",
    "trusted": true
   },
   "outputs": [
    {
     "data": {
      "application/vnd.jupyter.widget-view+json": {
       "model_id": "b990e92101df4549862aecaeeb4635ee",
       "version_major": 2,
       "version_minor": 0
      },
      "text/plain": [
       "  0%|          | 0/100 [00:00<?, ?it/s]"
      ]
     },
     "metadata": {},
     "output_type": "display_data"
    },
    {
     "name": "stdout",
     "output_type": "stream",
     "text": [
      "27\n"
     ]
    }
   ],
   "source": [
    "initial_epsilon = 1\n",
    "batch_size = 16\n",
    "gamma = 0.9\n",
    "episodes = 100\n",
    "stats = {'Returns': []}\n",
    "decay_rate = 0.02\n",
    "final_epsilon = 0.01\n",
    "best_model_path = \"best_model.pt\"\n",
    "best_model_in_episode = 0\n",
    "tmp_posi_kill = 0\n",
    "\n",
    "for episode in tqdm(range(episodes)):\n",
    "  env.reset(seed)\n",
    "  epsilon = max(final_epsilon, initial_epsilon * math.exp(-decay_rate * episode))\n",
    "  ep_return = 0\n",
    "  step_cnt = 0\n",
    "  posi_kill = 0\n",
    "  for agent in env.agent_iter():\n",
    "      agent_handle = agent.split(\"_\")[0]\n",
    "      state, reward, termination, truncation, _ = env.last()\n",
    "      done = termination or truncation\n",
    "      if done:\n",
    "        env.step(None)\n",
    "      else:\n",
    "        if agent_handle == \"blue\":\n",
    "          # inserting into buffer replay\n",
    "          if agents_action[agent] != -1:\n",
    "            multipy = False\n",
    "            state_prev, tensor_action_prev, next_state_prev = agents_action[agent]\n",
    "            reward += pursuit(state_prev, next_state_prev, tensor_action_prev.item())\n",
    "            tensor_state, tensor_next_state, tensor_reward, tensor_done, = preprocess(state_prev, reward, done, next_state_prev)\n",
    "            if reward > 0:\n",
    "              if tensor_action_prev.item() > 12:\n",
    "                for i in range(2):\n",
    "                  replay.insert([tensor_state, tensor_action_prev, tensor_reward, tensor_done, tensor_next_state])\n",
    "              elif tensor_action_prev.item() in {4,5}:\n",
    "                for i in range(2):\n",
    "                  replay.insert([tensor_state, tensor_action_prev, tensor_reward, tensor_done, tensor_next_state])\n",
    "            else:\n",
    "              replay.insert([tensor_state, tensor_action_prev, tensor_reward, tensor_done, tensor_next_state])\n",
    "            if reward > 1:\n",
    "                posi_kill += 1\n",
    "          tensor_action = exploratory_policy(state, agent, epsilon, env)\n",
    "          env.step(tensor_action.item())\n",
    "          step_cnt += 1\n",
    "          next_state, _, _, _, _ = env.last()\n",
    "          if done:\n",
    "            # setting to -1 to stop saving samples from an agent that has already died\n",
    "            agents_action[agent] = -1\n",
    "          else:\n",
    "            # savig state, action, next state into dict\n",
    "            agents_action[agent] = [state, tensor_action, next_state]\n",
    "        else:\n",
    "          tensor_state = (\n",
    "            torch.from_numpy(state).float().permute([2, 0, 1]).unsqueeze(0).to(device)\n",
    "          )\n",
    "          with torch.no_grad():\n",
    "              q_values = q_network_pre(tensor_state)\n",
    "          tensor_action = torch.argmax(q_values, dim=1, keepdim = True)\n",
    "          env.step(tensor_action.item())\n",
    "\n",
    "        if agent_handle == 'blue':\n",
    "          ep_return += reward\n",
    "      # samples from buffer and updating q_network parameters\n",
    "      if replay.can_sample(batch_size) and step_cnt % 4 == 0:\n",
    "        state_b, action_b, reward_b, termination_b, next_state_b = replay.sample(batch_size)\n",
    "        qsa_b = q_network(state_b.to(device)).gather(1, action_b.to(device))\n",
    "        next_qsa_b = torch.max(target_q_network(next_state_b.to(device)), dim = -1, keepdim = True)[0]\n",
    "        target_b = reward_b + ~termination_b * gamma * next_qsa_b\n",
    "        loss = loss_fn(qsa_b, target_b)\n",
    "        optimizer.zero_grad()\n",
    "        loss.backward()\n",
    "        optimizer.step()\n",
    "\n",
    "  # save best model\n",
    "  if posi_kill > tmp_posi_kill:\n",
    "      torch.save(q_network.state_dict(), best_model_path)\n",
    "      tmp_posi_kill = posi_kill\n",
    "      best_model_in_episode = episode + 1\n",
    "  # updating target_q_network\n",
    "  if episode % 10 == 0:\n",
    "      target_q_network.load_state_dict(q_network.state_dict())\n",
    "  stats['Returns'].append(ep_return)\n",
    "  # break early to avoid overfitting\n",
    "  if episode == 34:\n",
    "      print(best_model_in_episode)\n",
    "      break\n",
    "\n",
    "\n"
   ]
  },
  {
   "cell_type": "code",
   "execution_count": null,
   "metadata": {
    "colab": {
     "base_uri": "https://localhost:8080/",
     "height": 504
    },
    "execution": {
     "iopub.execute_input": "2024-12-18T12:12:39.241460Z",
     "iopub.status.busy": "2024-12-18T12:12:39.240866Z",
     "iopub.status.idle": "2024-12-18T12:12:39.572086Z",
     "shell.execute_reply": "2024-12-18T12:12:39.571033Z",
     "shell.execute_reply.started": "2024-12-18T12:12:39.241426Z"
    },
    "id": "GY9SKk1I9pQU",
    "outputId": "7e3d8495-b6ae-4a07-ec8b-0987392f020a",
    "trusted": true
   },
   "outputs": [
    {
     "data": {
      "text/plain": [
       "Text(0.5, 1.0, 'Learning Curve')"
      ]
     },
     "execution_count": 22,
     "metadata": {},
     "output_type": "execute_result"
    },
    {
     "data": {
      "image/png": "[encoded data removed]",
      "text/plain": [
       "<Figure size 1000x500 with 1 Axes>"
      ]
     },
     "metadata": {},
     "output_type": "display_data"
    }
   ],
   "source": [
    "epochs = range(35)\n",
    "fig, axes = plt.subplots(figsize=(10, 5))\n",
    "axes.plot(epochs, stats['Returns'])\n",
    "axes.set_ylabel('Returns')\n",
    "axes.set_xlabel('Epochs')\n",
    "axes.set_title('Learning Curve')"
   ]
  },
  {
   "cell_type": "markdown",
   "metadata": {
    "id": "BgVwkrg42j0L"
   },
   "source": [
    "# Test Eval"
   ]
  },
  {
   "cell_type": "code",
   "execution_count": null,
   "metadata": {
    "colab": {
     "base_uri": "https://localhost:8080/"
    },
    "execution": {
     "iopub.execute_input": "2024-12-18T12:12:39.574757Z",
     "iopub.status.busy": "2024-12-18T12:12:39.574008Z",
     "iopub.status.idle": "2024-12-18T12:23:15.350681Z",
     "shell.execute_reply": "2024-12-18T12:23:15.349578Z",
     "shell.execute_reply.started": "2024-12-18T12:12:39.574687Z"
    },
    "id": "dc02EVj32j0L",
    "outputId": "ec3af8c1-95cb-4496-98ee-1123513f9671",
    "trusted": true
   },
   "outputs": [
    {
     "name": "stdout",
     "output_type": "stream",
     "text": [
      "====================\n",
      "Eval with random policy\n"
     ]
    },
    {
     "name": "stderr",
     "output_type": "stream",
     "text": [
      "100%|\u2588\u2588\u2588\u2588\u2588\u2588\u2588\u2588\u2588\u2588| 30/30 [06:31<00:00, 13.05s/it]\n"
     ]
    },
    {
     "name": "stdout",
     "output_type": "stream",
     "text": [
      "{'winrate_red': 0.0, 'winrate_blue': 1.0, 'average_rewards_red': -3.779302602389697, 'average_rewards_blue': -17.5570667387086}\n",
      "====================\n",
      "Eval with trained policy\n"
     ]
    },
    {
     "name": "stderr",
     "output_type": "stream",
     "text": [
      "100%|\u2588\u2588\u2588\u2588\u2588\u2588\u2588\u2588\u2588\u2588| 30/30 [05:36<00:00, 11.20s/it]\n"
     ]
    },
    {
     "name": "stdout",
     "output_type": "stream",
     "text": [
      "{'winrate_red': 0.0, 'winrate_blue': 1.0, 'average_rewards_red': 1.2101275676405325, 'average_rewards_blue': -11.059405986151043}\n",
      "====================\n",
      "Eval with final trained policy\n"
     ]
    },
    {
     "name": "stderr",
     "output_type": "stream",
     "text": [
      "100%|\u2588\u2588\u2588\u2588\u2588\u2588\u2588\u2588\u2588\u2588| 30/30 [06:36<00:00, 13.20s/it]"
     ]
    },
    {
     "name": "stdout",
     "output_type": "stream",
     "text": [
      "{'winrate_red': 0.0, 'winrate_blue': 1.0, 'average_rewards_red': 1.382224241322972, 'average_rewards_blue': -8.81051700680781}\n",
      "====================\n"
     ]
    },
    {
     "name": "stderr",
     "output_type": "stream",
     "text": [
      "\n"
     ]
    }
   ],
   "source": [
    "try:\n",
    "    from tqdm import tqdm\n",
    "except ImportError:\n",
    "    tqdm = lambda x, *args, **kwargs: x  # Fallback: tqdm becomes a no-op\n",
    "\n",
    "import warnings\n",
    "warnings.filterwarnings('ignore')\n",
    "\n",
    "def eval():\n",
    "    max_cycles = 300\n",
    "    env = battle_v4.env(map_size=45, max_cycles=max_cycles)\n",
    "    # device = \"cuda\" if torch.cuda.is_available() else \"cpu\"\n",
    "    device = \"cpu\"\n",
    "\n",
    "    def random_policy(env, agent, obs):\n",
    "        return env.action_space(agent).sample()\n",
    "\n",
    "    q_network = QNetwork_pre(\n",
    "        env.observation_space(\"red_0\").shape, env.action_space(\"red_0\").n\n",
    "    )\n",
    "    q_network.load_state_dict(\n",
    "        torch.load(\"red.pt\", weights_only=True, map_location=\"cpu\")\n",
    "    )\n",
    "    q_network.to(device)\n",
    "\n",
    "    final_q_network = QNetwork_final(\n",
    "        env.observation_space(\"red_0\").shape, env.action_space(\"red_0\").n\n",
    "    )\n",
    "    final_q_network.load_state_dict(\n",
    "        torch.load(\"red_final.pt\", weights_only=True, map_location=\"cpu\")\n",
    "    )\n",
    "    final_q_network.to(device)\n",
    "\n",
    "    my_q_network = QNetwork(5, 5, 21)\n",
    "    my_q_network.load_state_dict(\n",
    "        torch.load(\"best_model.pt\", weights_only=True, map_location=\"cpu\")\n",
    "    )\n",
    "    my_q_network.to(device)\n",
    "\n",
    "    def pretrain_policy(env, agent, obs):\n",
    "        observation = (\n",
    "            torch.Tensor(obs).float().permute([2, 0, 1]).unsqueeze(0).to(device)\n",
    "        )\n",
    "        with torch.no_grad():\n",
    "            q_values = q_network(observation)\n",
    "        return torch.argmax(q_values, dim=1).cpu().numpy()[0]\n",
    "\n",
    "    def final_pretrain_policy(env, agent, obs):\n",
    "        observation = (\n",
    "            torch.Tensor(obs).float().permute([2, 0, 1]).unsqueeze(0).to(device)\n",
    "        )\n",
    "        with torch.no_grad():\n",
    "            q_values = final_q_network(observation)\n",
    "        return torch.argmax(q_values, dim=1).cpu().numpy()[0]\n",
    "\n",
    "    def my_pretrain_policy(env, agent, obs):\n",
    "        observation = (\n",
    "            torch.Tensor(obs).float().permute([2, 0, 1]).unsqueeze(0).to(device)\n",
    "        )\n",
    "        with torch.no_grad():\n",
    "            q_values = my_q_network(observation)\n",
    "        return torch.argmax(q_values, dim=1).cpu().numpy()[0]\n",
    "\n",
    "    def run_eval(env, red_policy, blue_policy, n_episode: int = 100):\n",
    "        red_win, blue_win = [], []\n",
    "        red_tot_rw, blue_tot_rw = [], []\n",
    "        n_agent_each_team = len(env.env.action_spaces) // 2\n",
    "\n",
    "        for _ in tqdm(range(n_episode)):\n",
    "            env.reset()\n",
    "            n_kill = {\"red\": 0, \"blue\": 0}\n",
    "            red_reward, blue_reward = 0, 0\n",
    "\n",
    "            for agent in env.agent_iter():\n",
    "                observation, reward, termination, truncation, info = env.last()\n",
    "                agent_team = agent.split(\"_\")[0]\n",
    "\n",
    "                n_kill[agent_team] += (\n",
    "                    reward > 4.5\n",
    "                )  # This assumes default reward settups\n",
    "                if agent_team == \"red\":\n",
    "                    red_reward += reward\n",
    "                else:\n",
    "                    blue_reward += reward\n",
    "\n",
    "                if termination or truncation:\n",
    "                    action = None  # this agent has died\n",
    "                else:\n",
    "                    if agent_team == \"red\":\n",
    "                        action = red_policy(env, agent, observation)\n",
    "                    else:\n",
    "                        action = blue_policy(env, agent, observation)\n",
    "\n",
    "                env.step(action)\n",
    "\n",
    "            who_wins = \"red\" if n_kill[\"red\"] >= n_kill[\"blue\"] + 5 else \"draw\"\n",
    "            who_wins = \"blue\" if n_kill[\"red\"] + 5 <= n_kill[\"blue\"] else who_wins\n",
    "            red_win.append(who_wins == \"red\")\n",
    "            blue_win.append(who_wins == \"blue\")\n",
    "\n",
    "            red_tot_rw.append(red_reward / n_agent_each_team)\n",
    "            blue_tot_rw.append(blue_reward / n_agent_each_team)\n",
    "\n",
    "        return {\n",
    "            \"winrate_red\": np.mean(red_win),\n",
    "            \"winrate_blue\": np.mean(blue_win),\n",
    "            \"average_rewards_red\": np.mean(red_tot_rw),\n",
    "            \"average_rewards_blue\": np.mean(blue_tot_rw),\n",
    "        }\n",
    "\n",
    "    print(\"=\" * 20)\n",
    "    print(\"Eval with random policy\")\n",
    "    print(\n",
    "        run_eval(\n",
    "            env=env, red_policy=random_policy, blue_policy=my_pretrain_policy, n_episode=30\n",
    "        )\n",
    "    )\n",
    "    print(\"=\" * 20)\n",
    "\n",
    "    print(\"Eval with trained policy\")\n",
    "    print(\n",
    "        run_eval(\n",
    "            env=env, red_policy=pretrain_policy, blue_policy=my_pretrain_policy, n_episode=30\n",
    "        )\n",
    "    )\n",
    "    print(\"=\" * 20)\n",
    "\n",
    "    print(\"Eval with final trained policy\")\n",
    "    print(\n",
    "        run_eval(\n",
    "            env=env, red_policy=final_pretrain_policy, blue_policy=my_pretrain_policy, n_episode=30,\n",
    "        )\n",
    "    )\n",
    "    print(\"=\" * 20)\n",
    "\n",
    "if __name__ == \"__main__\":\n",
    "    eval()"
   ]
  }
 ],
 "metadata": {
  "accelerator": "GPU",
  "colab": {
   "gpuType": "T4",
   "provenance": []
  },
  "kaggle": {
   "accelerator": "none",
   "dataSources": [
    {
     "datasetId": 6192145,
     "sourceId": 10215109,
     "sourceType": "datasetVersion"
    }
   ],
   "dockerImageVersionId": 30805,
   "isGpuEnabled": false,
   "isInternetEnabled": true,
   "language": "python",
   "sourceType": "notebook"
  },
  "kernelspec": {
   "display_name": ".venv",
   "language": "python",
   "name": "python3"
  },
  "language_info": {
   "codemirror_mode": {
    "name": "ipython",
    "version": 3
   },
   "file_extension": ".py",
   "mimetype": "text/x-python",
   "name": "python",
   "nbconvert_exporter": "python",
   "pygments_lexer": "ipython3",
   "version": "3.12.3"
  }
 },
 "nbformat": 4,
 "nbformat_minor": 0
}